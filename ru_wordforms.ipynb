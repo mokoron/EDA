{
  "nbformat": 4,
  "nbformat_minor": 0,
  "metadata": {
    "colab": {
      "name": "ru_wordforms",
      "provenance": [],
      "include_colab_link": true
    },
    "kernelspec": {
      "name": "python3",
      "display_name": "Python 3"
    }
  },
  "cells": [
    {
      "cell_type": "markdown",
      "metadata": {
        "id": "view-in-github",
        "colab_type": "text"
      },
      "source": [
        "<a href=\"https://colab.research.google.com/github/mokoron/EDA/blob/master/ru_wordforms.ipynb\" target=\"_parent\"><img src=\"https://colab.research.google.com/assets/colab-badge.svg\" alt=\"Open In Colab\"/></a>"
      ]
    },
    {
      "cell_type": "code",
      "metadata": {
        "id": "OLvHPZTUIA_v"
      },
      "source": [
        "%%capture\n",
        "!pip install deeppavlov\n",
        "!python -m deeppavlov install morpho_ru_syntagrus_pymorphy"
      ],
      "execution_count": null,
      "outputs": []
    },
    {
      "cell_type": "code",
      "metadata": {
        "id": "7HtsspR_Weh2",
        "outputId": "39781343-c404-483e-8b34-30e1a55352eb",
        "colab": {
          "base_uri": "https://localhost:8080/"
        }
      },
      "source": [
        "from deeppavlov import build_model, configs\n",
        "from pymorphy2 import MorphAnalyzer\n",
        "morph = MorphAnalyzer()\n",
        "model = build_model(configs.morpho_tagger.UD2_0.morpho_ru_syntagrus_pymorphy, download=True)\n",
        "def convert_pos(pos, fullpos):\n",
        "    pos_dct = {\n",
        "        'NOUN': 'NOUN',\n",
        "        'VERB': 'VERB',\n",
        "        'ADJ': 'ADJF',\n",
        "        'NUM': 'NUMR',\n",
        "        'ADV': 'ADVB',\n",
        "        'PUNCT': 'PNCT',\n",
        "        'INTJ': 'INTJ',\n",
        "        'PRON': 'NPRO',\n",
        "        'PART': 'PRCL',\n",
        "        'CCONJ': 'CONJ',\n",
        "        'SCONJ': 'CONJ',\n",
        "        'ADP': 'PREP',\n",
        "        'AUX': 'VERB',\n",
        "        'PROPN': 'NOUN',\n",
        "        'DET': 'NPRO',\n",
        "        'X': 'UNKN'\n",
        "    }\n",
        "    new_pos = pos_dct[pos]\n",
        "    if 'Variant=Short' in fullpos:\n",
        "        new_pos = 'ADJS'\n",
        "    if 'VerbForm=Inf' in fullpos:\n",
        "        new_pos = 'INFN'\n",
        "    if 'Degree=Cmp' in fullpos:\n",
        "        new_pos = 'COMP'\n",
        "    if 'VerbForm=Part' in fullpos:\n",
        "        new_pos = 'PRTF'\n",
        "    if 'Variant=Short|VerbForm=Part' in fullpos:\n",
        "        new_pos = 'PRTS'\n",
        "    if 'VerbForm=Conv' in fullpos:\n",
        "        new_pos = 'GRND'\n",
        "    if 'Foreign=Yes' in fullpos:\n",
        "        new_pos = 'LATN'\n",
        "    return new_pos\n",
        "def get_paradigm(cur_word, pos):\n",
        "    words = morph.parse(cur_word)\n",
        "    prs_idx = next(num for num, word in enumerate(words) if word.tag.POS == pos)\n",
        "    all_forms = [(word.word) for word in words[prs_idx].lexeme]\n",
        "    return all_forms\n",
        "def get_words_paradigms(sentences):\n",
        "    paradigms = []\n",
        "    for parse in model(sentences):\n",
        "        sentence = parse.split('\\n')\n",
        "        for sent in sentence:\n",
        "            word = sent.split('\\t')\n",
        "            if len(word) <= 1:\n",
        "                continue\n",
        "            elif word[1] in ['$', '%']:\n",
        "                paradigms.append([[word[1]], [word[1]]])\n",
        "            elif word[3] != '_' and word[2] != 'X':\n",
        "                cur_word = word[1]\n",
        "                cur_pos = convert_pos(word[2], word[3])\n",
        "                paradigms.append([[word[1]], get_paradigm(cur_word, cur_pos)])\n",
        "            else:\n",
        "                paradigms.append([[word[1]], [word[1]]])\n",
        "    return paradigms"
      ],
      "execution_count": null,
      "outputs": [
        {
          "output_type": "stream",
          "text": [
            "2020-11-13 21:06:44.747 INFO in 'deeppavlov.core.data.utils'['utils'] at line 94: Downloading from http://files.deeppavlov.ai/deeppavlov_data/morpho_tagger/UD2.0/ru_syntagrus.tar.gz to /root/.deeppavlov/models/morpho_tagger/UD2.0/ru_syntagrus.tar.gz\n",
            "100%|██████████| 30.7M/30.7M [00:12<00:00, 2.55MB/s]\n",
            "2020-11-13 21:06:57.488 INFO in 'deeppavlov.core.data.utils'['utils'] at line 268: Extracting /root/.deeppavlov/models/morpho_tagger/UD2.0/ru_syntagrus.tar.gz archive into /root/.deeppavlov/models/morpho_tagger/UD2.0/ru_syntagrus\n",
            "2020-11-13 21:06:58.966 INFO in 'deeppavlov.core.data.utils'['utils'] at line 94: Downloading from http://files.deeppavlov.ai/datasets/UD2.0_source/ru_syntagrus.tar.gz to /root/.deeppavlov/downloads/UD2.0_source/ru_syntagrus.tar.gz\n",
            "100%|██████████| 18.0M/18.0M [00:07<00:00, 2.35MB/s]\n",
            "2020-11-13 21:07:07.225 INFO in 'deeppavlov.core.data.utils'['utils'] at line 268: Extracting /root/.deeppavlov/downloads/UD2.0_source/ru_syntagrus.tar.gz archive into /root/.deeppavlov/downloads/UD2.0_source/ru_syntagrus\n",
            "[nltk_data] Downloading package punkt to /root/nltk_data...\n",
            "[nltk_data]   Unzipping tokenizers/punkt.zip.\n",
            "[nltk_data] Downloading package stopwords to /root/nltk_data...\n",
            "[nltk_data]   Unzipping corpora/stopwords.zip.\n",
            "[nltk_data] Downloading package perluniprops to /root/nltk_data...\n",
            "[nltk_data]   Unzipping misc/perluniprops.zip.\n",
            "[nltk_data] Downloading package nonbreaking_prefixes to\n",
            "[nltk_data]     /root/nltk_data...\n",
            "[nltk_data]   Unzipping corpora/nonbreaking_prefixes.zip.\n",
            "2020-11-13 21:07:11.3 INFO in 'deeppavlov.core.data.simple_vocab'['simple_vocab'] at line 115: [loading vocabulary from /root/.deeppavlov/models/morpho_tagger/UD2.0/ru_syntagrus/tag.dict]\n",
            "2020-11-13 21:07:11.7 INFO in 'deeppavlov.core.data.simple_vocab'['simple_vocab'] at line 115: [loading vocabulary from /root/.deeppavlov/models/morpho_tagger/UD2.0/ru_syntagrus/char.dict]\n"
          ],
          "name": "stderr"
        },
        {
          "output_type": "stream",
          "text": [
            "WARNING:tensorflow:From /usr/local/lib/python3.6/dist-packages/deeppavlov/core/models/tf_backend.py:38: The name tf.keras.backend.set_session is deprecated. Please use tf.compat.v1.keras.backend.set_session instead.\n",
            "\n"
          ],
          "name": "stdout"
        },
        {
          "output_type": "stream",
          "text": [
            "2020-11-13 21:07:12.411 INFO in 'deeppavlov.models.morpho_tagger.morpho_tagger'['morpho_tagger'] at line 166: 99 symbols, 711 tags in CharacterTagger\n"
          ],
          "name": "stderr"
        },
        {
          "output_type": "stream",
          "text": [
            "WARNING:tensorflow:From /usr/local/lib/python3.6/dist-packages/tensorflow_core/python/ops/resource_variable_ops.py:1630: calling BaseResourceVariable.__init__ (from tensorflow.python.ops.resource_variable_ops) with constraint is deprecated and will be removed in a future version.\n",
            "Instructions for updating:\n",
            "If using Keras pass *_constraint arguments to layers.\n",
            "WARNING:tensorflow:From /usr/local/lib/python3.6/dist-packages/tensorflow_core/python/keras/initializers.py:119: calling RandomUniform.__init__ (from tensorflow.python.ops.init_ops) with dtype is deprecated and will be removed in a future version.\n",
            "Instructions for updating:\n",
            "Call initializer instance with the dtype argument instead of passing it to the constructor\n",
            "WARNING:tensorflow:From /usr/local/lib/python3.6/dist-packages/tensorflow_core/python/ops/init_ops.py:97: calling GlorotUniform.__init__ (from tensorflow.python.ops.init_ops) with dtype is deprecated and will be removed in a future version.\n",
            "Instructions for updating:\n",
            "Call initializer instance with the dtype argument instead of passing it to the constructor\n",
            "WARNING:tensorflow:From /usr/local/lib/python3.6/dist-packages/tensorflow_core/python/ops/init_ops.py:97: calling Orthogonal.__init__ (from tensorflow.python.ops.init_ops) with dtype is deprecated and will be removed in a future version.\n",
            "Instructions for updating:\n",
            "Call initializer instance with the dtype argument instead of passing it to the constructor\n",
            "WARNING:tensorflow:From /usr/local/lib/python3.6/dist-packages/tensorflow_core/python/ops/init_ops.py:97: calling Zeros.__init__ (from tensorflow.python.ops.init_ops) with dtype is deprecated and will be removed in a future version.\n",
            "Instructions for updating:\n",
            "Call initializer instance with the dtype argument instead of passing it to the constructor\n"
          ],
          "name": "stdout"
        },
        {
          "output_type": "stream",
          "text": [
            "2020-11-13 21:07:13.948 INFO in 'deeppavlov.models.morpho_tagger.morpho_tagger'['layer_utils'] at line 165: Model: \"model\"\n",
            "2020-11-13 21:07:13.949 INFO in 'deeppavlov.models.morpho_tagger.morpho_tagger'['layer_utils'] at line 166: __________________________________________________________________________________________________\n",
            "2020-11-13 21:07:13.950 INFO in 'deeppavlov.models.morpho_tagger.morpho_tagger'['layer_utils'] at line 163: Layer (type)                    Output Shape         Param #     Connected to                     \n",
            "2020-11-13 21:07:13.952 INFO in 'deeppavlov.models.morpho_tagger.morpho_tagger'['layer_utils'] at line 168: ==================================================================================================\n",
            "2020-11-13 21:07:13.953 INFO in 'deeppavlov.models.morpho_tagger.morpho_tagger'['layer_utils'] at line 163: input_1 (InputLayer)            [(None, None, 32)]   0                                            \n",
            "2020-11-13 21:07:13.954 INFO in 'deeppavlov.models.morpho_tagger.morpho_tagger'['layer_utils'] at line 232: __________________________________________________________________________________________________\n",
            "2020-11-13 21:07:13.956 INFO in 'deeppavlov.models.morpho_tagger.morpho_tagger'['layer_utils'] at line 163: lambda (Lambda)                 (None, None, 32, 99) 0           input_1[0][0]                    \n",
            "2020-11-13 21:07:13.958 INFO in 'deeppavlov.models.morpho_tagger.morpho_tagger'['layer_utils'] at line 232: __________________________________________________________________________________________________\n",
            "2020-11-13 21:07:13.959 INFO in 'deeppavlov.models.morpho_tagger.morpho_tagger'['layer_utils'] at line 163: dense (Dense)                   (None, None, 32, 32) 3168        lambda[0][0]                     \n",
            "2020-11-13 21:07:13.959 INFO in 'deeppavlov.models.morpho_tagger.morpho_tagger'['layer_utils'] at line 232: __________________________________________________________________________________________________\n",
            "2020-11-13 21:07:13.961 INFO in 'deeppavlov.models.morpho_tagger.morpho_tagger'['layer_utils'] at line 163: conv2d (Conv2D)                 (None, None, 32, 50) 1650        dense[0][0]                      \n",
            "2020-11-13 21:07:13.963 INFO in 'deeppavlov.models.morpho_tagger.morpho_tagger'['layer_utils'] at line 232: __________________________________________________________________________________________________\n",
            "2020-11-13 21:07:13.965 INFO in 'deeppavlov.models.morpho_tagger.morpho_tagger'['layer_utils'] at line 163: conv2d_1 (Conv2D)               (None, None, 32, 100 6500        dense[0][0]                      \n",
            "2020-11-13 21:07:13.967 INFO in 'deeppavlov.models.morpho_tagger.morpho_tagger'['layer_utils'] at line 232: __________________________________________________________________________________________________\n",
            "2020-11-13 21:07:13.969 INFO in 'deeppavlov.models.morpho_tagger.morpho_tagger'['layer_utils'] at line 163: conv2d_2 (Conv2D)               (None, None, 32, 150 14550       dense[0][0]                      \n",
            "2020-11-13 21:07:13.970 INFO in 'deeppavlov.models.morpho_tagger.morpho_tagger'['layer_utils'] at line 232: __________________________________________________________________________________________________\n",
            "2020-11-13 21:07:13.972 INFO in 'deeppavlov.models.morpho_tagger.morpho_tagger'['layer_utils'] at line 163: conv2d_3 (Conv2D)               (None, None, 32, 200 25800       dense[0][0]                      \n",
            "2020-11-13 21:07:13.973 INFO in 'deeppavlov.models.morpho_tagger.morpho_tagger'['layer_utils'] at line 232: __________________________________________________________________________________________________\n",
            "2020-11-13 21:07:13.976 INFO in 'deeppavlov.models.morpho_tagger.morpho_tagger'['layer_utils'] at line 163: conv2d_4 (Conv2D)               (None, None, 32, 200 32200       dense[0][0]                      \n",
            "2020-11-13 21:07:13.976 INFO in 'deeppavlov.models.morpho_tagger.morpho_tagger'['layer_utils'] at line 232: __________________________________________________________________________________________________\n",
            "2020-11-13 21:07:13.978 INFO in 'deeppavlov.models.morpho_tagger.morpho_tagger'['layer_utils'] at line 163: conv2d_5 (Conv2D)               (None, None, 32, 200 38600       dense[0][0]                      \n",
            "2020-11-13 21:07:13.980 INFO in 'deeppavlov.models.morpho_tagger.morpho_tagger'['layer_utils'] at line 232: __________________________________________________________________________________________________\n",
            "2020-11-13 21:07:13.982 INFO in 'deeppavlov.models.morpho_tagger.morpho_tagger'['layer_utils'] at line 163: conv2d_6 (Conv2D)               (None, None, 32, 200 45000       dense[0][0]                      \n",
            "2020-11-13 21:07:13.984 INFO in 'deeppavlov.models.morpho_tagger.morpho_tagger'['layer_utils'] at line 232: __________________________________________________________________________________________________\n",
            "2020-11-13 21:07:13.985 INFO in 'deeppavlov.models.morpho_tagger.morpho_tagger'['layer_utils'] at line 163: concatenate (Concatenate)       (None, None, 32, 110 0           conv2d[0][0]                     \n",
            "2020-11-13 21:07:13.986 INFO in 'deeppavlov.models.morpho_tagger.morpho_tagger'['layer_utils'] at line 163:                                                                  conv2d_1[0][0]                   \n",
            "2020-11-13 21:07:13.987 INFO in 'deeppavlov.models.morpho_tagger.morpho_tagger'['layer_utils'] at line 163:                                                                  conv2d_2[0][0]                   \n",
            "2020-11-13 21:07:13.988 INFO in 'deeppavlov.models.morpho_tagger.morpho_tagger'['layer_utils'] at line 163:                                                                  conv2d_3[0][0]                   \n",
            "2020-11-13 21:07:13.989 INFO in 'deeppavlov.models.morpho_tagger.morpho_tagger'['layer_utils'] at line 163:                                                                  conv2d_4[0][0]                   \n",
            "2020-11-13 21:07:13.989 INFO in 'deeppavlov.models.morpho_tagger.morpho_tagger'['layer_utils'] at line 163:                                                                  conv2d_5[0][0]                   \n",
            "2020-11-13 21:07:13.990 INFO in 'deeppavlov.models.morpho_tagger.morpho_tagger'['layer_utils'] at line 163:                                                                  conv2d_6[0][0]                   \n",
            "2020-11-13 21:07:13.991 INFO in 'deeppavlov.models.morpho_tagger.morpho_tagger'['layer_utils'] at line 232: __________________________________________________________________________________________________\n",
            "2020-11-13 21:07:13.992 INFO in 'deeppavlov.models.morpho_tagger.morpho_tagger'['layer_utils'] at line 163: lambda_1 (Lambda)               (None, None, 1100)   0           concatenate[0][0]                \n",
            "2020-11-13 21:07:13.993 INFO in 'deeppavlov.models.morpho_tagger.morpho_tagger'['layer_utils'] at line 232: __________________________________________________________________________________________________\n",
            "2020-11-13 21:07:13.993 INFO in 'deeppavlov.models.morpho_tagger.morpho_tagger'['layer_utils'] at line 163: input_2 (InputLayer)            [(None, None, 724)]  0                                            \n",
            "2020-11-13 21:07:13.994 INFO in 'deeppavlov.models.morpho_tagger.morpho_tagger'['layer_utils'] at line 232: __________________________________________________________________________________________________\n",
            "2020-11-13 21:07:13.995 INFO in 'deeppavlov.models.morpho_tagger.morpho_tagger'['layer_utils'] at line 163: highway (Highway)               (None, None, 1100)   2422200     lambda_1[0][0]                   \n",
            "2020-11-13 21:07:13.996 INFO in 'deeppavlov.models.morpho_tagger.morpho_tagger'['layer_utils'] at line 232: __________________________________________________________________________________________________\n",
            "2020-11-13 21:07:13.997 INFO in 'deeppavlov.models.morpho_tagger.morpho_tagger'['layer_utils'] at line 163: dense_1 (Dense)                 (None, None, 128)    92800       input_2[0][0]                    \n",
            "2020-11-13 21:07:13.997 INFO in 'deeppavlov.models.morpho_tagger.morpho_tagger'['layer_utils'] at line 232: __________________________________________________________________________________________________\n",
            "2020-11-13 21:07:13.998 INFO in 'deeppavlov.models.morpho_tagger.morpho_tagger'['layer_utils'] at line 163: concatenate_1 (Concatenate)     (None, None, 1228)   0           highway[0][0]                    \n",
            "2020-11-13 21:07:13.999 INFO in 'deeppavlov.models.morpho_tagger.morpho_tagger'['layer_utils'] at line 163:                                                                  dense_1[0][0]                    \n",
            "2020-11-13 21:07:13.999 INFO in 'deeppavlov.models.morpho_tagger.morpho_tagger'['layer_utils'] at line 232: __________________________________________________________________________________________________\n",
            "2020-11-13 21:07:14.0 INFO in 'deeppavlov.models.morpho_tagger.morpho_tagger'['layer_utils'] at line 163: dropout (Dropout)               (None, None, 1228)   0           concatenate_1[0][0]              \n",
            "2020-11-13 21:07:14.1 INFO in 'deeppavlov.models.morpho_tagger.morpho_tagger'['layer_utils'] at line 232: __________________________________________________________________________________________________\n",
            "2020-11-13 21:07:14.2 INFO in 'deeppavlov.models.morpho_tagger.morpho_tagger'['layer_utils'] at line 163: bidirectional (Bidirectional)   (None, None, 256)    1389568     dropout[0][0]                    \n",
            "2020-11-13 21:07:14.3 INFO in 'deeppavlov.models.morpho_tagger.morpho_tagger'['layer_utils'] at line 232: __________________________________________________________________________________________________\n",
            "2020-11-13 21:07:14.4 INFO in 'deeppavlov.models.morpho_tagger.morpho_tagger'['layer_utils'] at line 163: p (TimeDistributed)             (None, None, 711)    182727      bidirectional[0][0]              \n",
            "2020-11-13 21:07:14.5 INFO in 'deeppavlov.models.morpho_tagger.morpho_tagger'['layer_utils'] at line 230: ==================================================================================================\n",
            "2020-11-13 21:07:14.9 INFO in 'deeppavlov.models.morpho_tagger.morpho_tagger'['layer_utils'] at line 242: Total params: 4,254,763\n",
            "2020-11-13 21:07:14.10 INFO in 'deeppavlov.models.morpho_tagger.morpho_tagger'['layer_utils'] at line 243: Trainable params: 4,254,763\n",
            "2020-11-13 21:07:14.11 INFO in 'deeppavlov.models.morpho_tagger.morpho_tagger'['layer_utils'] at line 244: Non-trainable params: 0\n",
            "2020-11-13 21:07:14.12 INFO in 'deeppavlov.models.morpho_tagger.morpho_tagger'['layer_utils'] at line 245: __________________________________________________________________________________________________\n",
            "2020-11-13 21:07:14.13 INFO in 'deeppavlov.models.morpho_tagger.morpho_tagger'['morpho_tagger'] at line 139: [loading model from /root/.deeppavlov/models/morpho_tagger/UD2.0/ru_syntagrus/model_pymorphy.hdf5]\n"
          ],
          "name": "stderr"
        }
      ]
    },
    {
      "cell_type": "code",
      "metadata": {
        "id": "Ympoe2AaXSZJ",
        "outputId": "adb70aa1-2eb0-44f8-fd59-fcacb2b335c7",
        "colab": {
          "base_uri": "https://localhost:8080/"
        }
      },
      "source": [
        "dct = get_words_paradigms([\"Прочитавший книгу. Зная это, сложнее быть собой. 123456. Прочитал я это. Прочитана была она давно. Читая это, я забыл себя\"])\n",
        "for word, par in dct:\n",
        "  print(word, par)"
      ],
      "execution_count": null,
      "outputs": [
        {
          "output_type": "stream",
          "text": [
            "['Прочитавший'] ['прочитать', 'прочитал', 'прочитала', 'прочитало', 'прочитали', 'прочитаю', 'прочитаем', 'прочитаешь', 'прочитаете', 'прочитает', 'прочитают', 'прочитаем', 'прочитаемте', 'прочитай', 'прочитайте', 'прочитавший', 'прочитавшего', 'прочитавшему', 'прочитавшего', 'прочитавший', 'прочитавшим', 'прочитавшем', 'прочитавшая', 'прочитавшей', 'прочитавшей', 'прочитавшую', 'прочитавшей', 'прочитавшею', 'прочитавшей', 'прочитавшее', 'прочитавшего', 'прочитавшему', 'прочитавшее', 'прочитавшим', 'прочитавшем', 'прочитавшие', 'прочитавших', 'прочитавшим', 'прочитавших', 'прочитавшие', 'прочитавшими', 'прочитавших', 'прочитанный', 'прочитанного', 'прочитанному', 'прочитанного', 'прочитанный', 'прочитанным', 'прочитанном', 'прочитанная', 'прочитанной', 'прочитанной', 'прочитанную', 'прочитанной', 'прочитанною', 'прочитанной', 'прочитанное', 'прочитанного', 'прочитанному', 'прочитанное', 'прочитанным', 'прочитанном', 'прочитанные', 'прочитанных', 'прочитанным', 'прочитанных', 'прочитанные', 'прочитанными', 'прочитанных', 'прочитав', 'прочитавши', 'прочитан', 'прочитана', 'прочитано', 'прочитаны']\n",
            "['книгу'] ['книга', 'книги', 'книге', 'книгу', 'книгой', 'книгою', 'книге', 'книги', 'книг', 'книгам', 'книги', 'книгами', 'книгах']\n",
            "['.'] ['.']\n",
            "['Зная'] ['знать', 'знаю', 'знаем', 'знаешь', 'знаете', 'знает', 'знают', 'знал', 'знала', 'знало', 'знали', 'знай', 'знайте', 'знающий', 'знающего', 'знающему', 'знающего', 'знающий', 'знающим', 'знающем', 'знающая', 'знающей', 'знающей', 'знающую', 'знающей', 'знающею', 'знающей', 'знающее', 'знающего', 'знающему', 'знающее', 'знающим', 'знающем', 'знающие', 'знающих', 'знающим', 'знающих', 'знающие', 'знающими', 'знающих', 'знавший', 'знавшего', 'знавшему', 'знавшего', 'знавший', 'знавшим', 'знавшем', 'знавшая', 'знавшей', 'знавшей', 'знавшую', 'знавшей', 'знавшею', 'знавшей', 'знавшее', 'знавшего', 'знавшему', 'знавшее', 'знавшим', 'знавшем', 'знавшие', 'знавших', 'знавшим', 'знавших', 'знавшие', 'знавшими', 'знавших', 'знаемый', 'знаемого', 'знаемому', 'знаемого', 'знаемый', 'знаемым', 'знаемом', 'знаемая', 'знаемой', 'знаемой', 'знаемую', 'знаемой', 'знаемою', 'знаемой', 'знаемое', 'знаемого', 'знаемому', 'знаемое', 'знаемым', 'знаемом', 'знаемые', 'знаемых', 'знаемым', 'знаемых', 'знаемые', 'знаемыми', 'знаемых', 'знанный', 'знанного', 'знанному', 'знанного', 'знанный', 'знанным', 'знанном', 'знанная', 'знанной', 'знанной', 'знанную', 'знанной', 'знанною', 'знанной', 'знанное', 'знанного', 'знанному', 'знанное', 'знанным', 'знанном', 'знанные', 'знанных', 'знанным', 'знанных', 'знанные', 'знанными', 'знанных', 'зная', 'знав', 'знавши', 'знаем', 'знаема', 'знаемо', 'знаемы', 'знан', 'знана', 'знано', 'знаны']\n",
            "['это'] ['это', 'этого', 'этому', 'это', 'этим', 'этом']\n",
            "[','] [',']\n",
            "['сложнее'] ['сложный', 'сложного', 'сложному', 'сложного', 'сложный', 'сложным', 'сложном', 'сложная', 'сложной', 'сложной', 'сложную', 'сложной', 'сложною', 'сложной', 'сложное', 'сложного', 'сложному', 'сложное', 'сложным', 'сложном', 'сложные', 'сложных', 'сложным', 'сложных', 'сложные', 'сложными', 'сложных', 'сложнейший', 'сложнейшего', 'сложнейшему', 'сложнейшего', 'сложнейший', 'сложнейшим', 'сложнейшем', 'сложнейшая', 'сложнейшей', 'сложнейшей', 'сложнейшую', 'сложнейшей', 'сложнейшею', 'сложнейшей', 'сложнейшее', 'сложнейшего', 'сложнейшему', 'сложнейшее', 'сложнейшим', 'сложнейшем', 'сложнейшие', 'сложнейших', 'сложнейшим', 'сложнейших', 'сложнейшие', 'сложнейшими', 'сложнейших', 'сложен', 'сложна', 'сложно', 'сложны', 'сложнее', 'сложней', 'посложнее', 'посложней', 'наисложнейший', 'наисложнейшего', 'наисложнейшему', 'наисложнейшего', 'наисложнейший', 'наисложнейшим', 'наисложнейшем', 'наисложнейшая', 'наисложнейшей', 'наисложнейшей', 'наисложнейшую', 'наисложнейшей', 'наисложнейшею', 'наисложнейшей', 'наисложнейшее', 'наисложнейшего', 'наисложнейшему', 'наисложнейшее', 'наисложнейшим', 'наисложнейшем', 'наисложнейшие', 'наисложнейших', 'наисложнейшим', 'наисложнейших', 'наисложнейшие', 'наисложнейшими', 'наисложнейших']\n",
            "['быть'] ['быть', 'есть', 'суть', 'есть', 'был', 'была', 'было', 'были', 'буду', 'будем', 'будешь', 'будете', 'будет', 'будут', 'будем', 'будь', 'будьте', 'е', 'бывший', 'бывшего', 'бывшему', 'бывшего', 'бывший', 'бывшим', 'бывшем', 'бывшая', 'бывшей', 'бывшей', 'бывшую', 'бывшей', 'бывшею', 'бывшей', 'бывшее', 'бывшего', 'бывшему', 'бывшее', 'бывшим', 'бывшем', 'бывшие', 'бывших', 'бывшим', 'бывших', 'бывшие', 'бывшими', 'бывших', 'будучи', 'бывши']\n",
            "['собой'] ['себя', 'себе', 'себя', 'собой', 'собою', 'себе']\n",
            "['.'] ['.']\n",
            "['123456'] ['123456']\n",
            "['.'] ['.']\n",
            "['Прочитал'] ['прочитать', 'прочитал', 'прочитала', 'прочитало', 'прочитали', 'прочитаю', 'прочитаем', 'прочитаешь', 'прочитаете', 'прочитает', 'прочитают', 'прочитаем', 'прочитаемте', 'прочитай', 'прочитайте', 'прочитавший', 'прочитавшего', 'прочитавшему', 'прочитавшего', 'прочитавший', 'прочитавшим', 'прочитавшем', 'прочитавшая', 'прочитавшей', 'прочитавшей', 'прочитавшую', 'прочитавшей', 'прочитавшею', 'прочитавшей', 'прочитавшее', 'прочитавшего', 'прочитавшему', 'прочитавшее', 'прочитавшим', 'прочитавшем', 'прочитавшие', 'прочитавших', 'прочитавшим', 'прочитавших', 'прочитавшие', 'прочитавшими', 'прочитавших', 'прочитанный', 'прочитанного', 'прочитанному', 'прочитанного', 'прочитанный', 'прочитанным', 'прочитанном', 'прочитанная', 'прочитанной', 'прочитанной', 'прочитанную', 'прочитанной', 'прочитанною', 'прочитанной', 'прочитанное', 'прочитанного', 'прочитанному', 'прочитанное', 'прочитанным', 'прочитанном', 'прочитанные', 'прочитанных', 'прочитанным', 'прочитанных', 'прочитанные', 'прочитанными', 'прочитанных', 'прочитав', 'прочитавши', 'прочитан', 'прочитана', 'прочитано', 'прочитаны']\n",
            "['я'] ['я', 'меня', 'мне', 'меня', 'мной', 'мною', 'мне']\n",
            "['это'] ['это', 'этого', 'этому', 'это', 'этим', 'этом']\n",
            "['.'] ['.']\n",
            "['Прочитана'] ['прочитать', 'прочитал', 'прочитала', 'прочитало', 'прочитали', 'прочитаю', 'прочитаем', 'прочитаешь', 'прочитаете', 'прочитает', 'прочитают', 'прочитаем', 'прочитаемте', 'прочитай', 'прочитайте', 'прочитавший', 'прочитавшего', 'прочитавшему', 'прочитавшего', 'прочитавший', 'прочитавшим', 'прочитавшем', 'прочитавшая', 'прочитавшей', 'прочитавшей', 'прочитавшую', 'прочитавшей', 'прочитавшею', 'прочитавшей', 'прочитавшее', 'прочитавшего', 'прочитавшему', 'прочитавшее', 'прочитавшим', 'прочитавшем', 'прочитавшие', 'прочитавших', 'прочитавшим', 'прочитавших', 'прочитавшие', 'прочитавшими', 'прочитавших', 'прочитанный', 'прочитанного', 'прочитанному', 'прочитанного', 'прочитанный', 'прочитанным', 'прочитанном', 'прочитанная', 'прочитанной', 'прочитанной', 'прочитанную', 'прочитанной', 'прочитанною', 'прочитанной', 'прочитанное', 'прочитанного', 'прочитанному', 'прочитанное', 'прочитанным', 'прочитанном', 'прочитанные', 'прочитанных', 'прочитанным', 'прочитанных', 'прочитанные', 'прочитанными', 'прочитанных', 'прочитав', 'прочитавши', 'прочитан', 'прочитана', 'прочитано', 'прочитаны']\n",
            "['была'] ['быть', 'есть', 'суть', 'есть', 'был', 'была', 'было', 'были', 'буду', 'будем', 'будешь', 'будете', 'будет', 'будут', 'будем', 'будь', 'будьте', 'е', 'бывший', 'бывшего', 'бывшему', 'бывшего', 'бывший', 'бывшим', 'бывшем', 'бывшая', 'бывшей', 'бывшей', 'бывшую', 'бывшей', 'бывшею', 'бывшей', 'бывшее', 'бывшего', 'бывшему', 'бывшее', 'бывшим', 'бывшем', 'бывшие', 'бывших', 'бывшим', 'бывших', 'бывшие', 'бывшими', 'бывших', 'будучи', 'бывши']\n",
            "['она'] ['она', 'её', 'неё', 'ней', 'ей', 'ней', 'её', 'неё', 'ей', 'ею', 'ней', 'нею', 'ней']\n",
            "['давно'] ['давно']\n",
            "['.'] ['.']\n",
            "['Читая'] ['читать', 'читаю', 'читаем', 'читаешь', 'читаете', 'читает', 'читают', 'читал', 'читала', 'читало', 'читали', 'читай', 'читайте', 'читающий', 'читающего', 'читающему', 'читающего', 'читающий', 'читающим', 'читающем', 'читающая', 'читающей', 'читающей', 'читающую', 'читающей', 'читающею', 'читающей', 'читающее', 'читающего', 'читающему', 'читающее', 'читающим', 'читающем', 'читающие', 'читающих', 'читающим', 'читающих', 'читающие', 'читающими', 'читающих', 'читавший', 'читавшего', 'читавшему', 'читавшего', 'читавший', 'читавшим', 'читавшем', 'читавшая', 'читавшей', 'читавшей', 'читавшую', 'читавшей', 'читавшею', 'читавшей', 'читавшее', 'читавшего', 'читавшему', 'читавшее', 'читавшим', 'читавшем', 'читавшие', 'читавших', 'читавшим', 'читавших', 'читавшие', 'читавшими', 'читавших', 'читаемый', 'читаемого', 'читаемому', 'читаемого', 'читаемый', 'читаемым', 'читаемом', 'читаемая', 'читаемой', 'читаемой', 'читаемую', 'читаемой', 'читаемою', 'читаемой', 'читаемое', 'читаемого', 'читаемому', 'читаемое', 'читаемым', 'читаемом', 'читаемые', 'читаемых', 'читаемым', 'читаемых', 'читаемые', 'читаемыми', 'читаемых', 'читанный', 'читанного', 'читанному', 'читанного', 'читанный', 'читанным', 'читанном', 'читанная', 'читанной', 'читанной', 'читанную', 'читанной', 'читанною', 'читанной', 'читанное', 'читанного', 'читанному', 'читанное', 'читанным', 'читанном', 'читанные', 'читанных', 'читанным', 'читанных', 'читанные', 'читанными', 'читанных', 'читая', 'читав', 'читавши', 'читаем', 'читаема', 'читаемо', 'читаемы', 'читан', 'читана', 'читано', 'читаны']\n",
            "['это'] ['это', 'этого', 'этому', 'это', 'этим', 'этом']\n",
            "[','] [',']\n",
            "['я'] ['я', 'меня', 'мне', 'меня', 'мной', 'мною', 'мне']\n",
            "['забыл'] ['забыть', 'забыл', 'забыла', 'забыло', 'забыли', 'забуду', 'забудем', 'забудешь', 'забудете', 'забудет', 'забудут', 'забыт', 'забудем', 'забудемте', 'забудь', 'забудьте', 'забывший', 'забывшего', 'забывшему', 'забывшего', 'забывший', 'забывшим', 'забывшем', 'забывшая', 'забывшей', 'забывшей', 'забывшую', 'забывшей', 'забывшею', 'забывшей', 'забывшее', 'забывшего', 'забывшему', 'забывшее', 'забывшим', 'забывшем', 'забывшие', 'забывших', 'забывшим', 'забывших', 'забывшие', 'забывшими', 'забывших', 'забытый', 'забытого', 'забытому', 'забытого', 'забытый', 'забытым', 'забытом', 'забытая', 'забытой', 'забытой', 'забытую', 'забытой', 'забытою', 'забытой', 'забытое', 'забытого', 'забытому', 'забытое', 'забытым', 'забытом', 'забытые', 'забытых', 'забытым', 'забытых', 'забытые', 'забытыми', 'забытых', 'забыв', 'забывши', 'забыт', 'забыта', 'забыто', 'забыты']\n",
            "['себя'] ['себя', 'себе', 'себя', 'собой', 'собою', 'себе']\n"
          ],
          "name": "stdout"
        }
      ]
    },
    {
      "cell_type": "markdown",
      "metadata": {
        "id": "MYACGokhO4tp"
      },
      "source": [
        "unittests for numbers, latin words, unknown words, empty list, $, %, punctuation, homonyms, бы, superlatives, complex predicate"
      ]
    }
  ]
}