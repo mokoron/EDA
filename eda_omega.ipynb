{
  "nbformat": 4,
  "nbformat_minor": 0,
  "metadata": {
    "colab": {
      "name": "eda_omega.ipynb",
      "provenance": [],
      "collapsed_sections": [],
      "include_colab_link": true
    },
    "kernelspec": {
      "name": "python3",
      "display_name": "Python 3"
    }
  },
  "cells": [
    {
      "cell_type": "markdown",
      "metadata": {
        "id": "view-in-github",
        "colab_type": "text"
      },
      "source": [
        "<a href=\"https://colab.research.google.com/github/mokoron/EDA/blob/master/eda_omega.ipynb\" target=\"_parent\"><img src=\"https://colab.research.google.com/assets/colab-badge.svg\" alt=\"Open In Colab\"/></a>"
      ]
    },
    {
      "cell_type": "markdown",
      "metadata": {
        "id": "inWG1XCF3cz5"
      },
      "source": [
        "<img src=\"https://miro.medium.com/max/2520/1*3rMzzcOz933RVvaO17UVLg.jpeg\">"
      ]
    },
    {
      "cell_type": "markdown",
      "metadata": {
        "id": "PEKxGHy41dhV"
      },
      "source": [
        "# Some useful uploadings and imports"
      ]
    },
    {
      "cell_type": "code",
      "metadata": {
        "id": "QzqIDDv13izX"
      },
      "source": [
        "%%capture\n",
        "!wget  -O \"Roboto.zip\" \"https://fonts.google.com/download?family=Roboto\""
      ],
      "execution_count": null,
      "outputs": []
    },
    {
      "cell_type": "code",
      "metadata": {
        "id": "SxyD2fW53jaJ"
      },
      "source": [
        "%%capture\n",
        "!unzip \"Roboto.zip\""
      ],
      "execution_count": null,
      "outputs": []
    },
    {
      "cell_type": "code",
      "metadata": {
        "id": "r6QBWps53npk"
      },
      "source": [
        "%%capture\n",
        "!mv Roboto-Light.ttf  /usr/share/fonts/truetype/"
      ],
      "execution_count": null,
      "outputs": []
    },
    {
      "cell_type": "code",
      "metadata": {
        "id": "XG7FMgB9J35Z"
      },
      "source": [
        "import pandas as pd\n",
        "from plotstables import inform, print_dialog, ling, ngrams, clusterize"
      ],
      "execution_count": null,
      "outputs": []
    },
    {
      "cell_type": "markdown",
      "metadata": {
        "id": "XEH8Mnqk8o3-"
      },
      "source": [
        "# EDA for Omega chat logs dataset"
      ]
    },
    {
      "cell_type": "markdown",
      "metadata": {
        "id": "3iBZl20ktw2a"
      },
      "source": [
        "let's start with some general information about the dataframe"
      ]
    },
    {
      "cell_type": "markdown",
      "metadata": {
        "id": "_LHyGbO_t-8A"
      },
      "source": [
        "### Here are 10 first lines of the dataset"
      ]
    },
    {
      "cell_type": "code",
      "metadata": {
        "id": "RZPdCPhNBOJc",
        "outputId": "3f04f263-cfe6-48e0-9424-3762f79200b8",
        "colab": {
          "base_uri": "https://localhost:8080/",
          "height": 536
        }
      },
      "source": [
        "data = pd.read_csv('en-US.csv', sep='\\t', names=['dialog_index', 'speaker_index', 'support', 'datettime', 'message'])\n",
        "data.head(10)"
      ],
      "execution_count": null,
      "outputs": [
        {
          "output_type": "execute_result",
          "data": {
            "text/html": [
              "<div>\n",
              "<style scoped>\n",
              "    .dataframe tbody tr th:only-of-type {\n",
              "        vertical-align: middle;\n",
              "    }\n",
              "\n",
              "    .dataframe tbody tr th {\n",
              "        vertical-align: top;\n",
              "    }\n",
              "\n",
              "    .dataframe thead th {\n",
              "        text-align: right;\n",
              "    }\n",
              "</style>\n",
              "<table border=\"1\" class=\"dataframe\">\n",
              "  <thead>\n",
              "    <tr style=\"text-align: right;\">\n",
              "      <th></th>\n",
              "      <th>dialog_index</th>\n",
              "      <th>speaker_index</th>\n",
              "      <th>support</th>\n",
              "      <th>datettime</th>\n",
              "      <th>message</th>\n",
              "    </tr>\n",
              "  </thead>\n",
              "  <tbody>\n",
              "    <tr>\n",
              "      <th>0</th>\n",
              "      <td>447842000754010922</td>\n",
              "      <td>3402939147751915780</td>\n",
              "      <td>1</td>\n",
              "      <td>2017-04-11T22:40:30.057Z</td>\n",
              "      <td>Hello, my name is Rick, how may I help you?</td>\n",
              "    </tr>\n",
              "    <tr>\n",
              "      <th>1</th>\n",
              "      <td>447842000754010922</td>\n",
              "      <td>447842000045207126</td>\n",
              "      <td>0</td>\n",
              "      <td>2017-04-11T22:41:31.473Z</td>\n",
              "      <td>Hi there</td>\n",
              "    </tr>\n",
              "    <tr>\n",
              "      <th>2</th>\n",
              "      <td>447842000754010922</td>\n",
              "      <td>447842000045207126</td>\n",
              "      <td>0</td>\n",
              "      <td>2017-04-11T22:41:37.903Z</td>\n",
              "      <td>My name is Angel</td>\n",
              "    </tr>\n",
              "    <tr>\n",
              "      <th>3</th>\n",
              "      <td>447842000754010922</td>\n",
              "      <td>447842000045207126</td>\n",
              "      <td>0</td>\n",
              "      <td>2017-04-11T22:42:16.410Z</td>\n",
              "      <td>I need a kit of heater and a hygrostat control</td>\n",
              "    </tr>\n",
              "    <tr>\n",
              "      <th>4</th>\n",
              "      <td>447842000754010922</td>\n",
              "      <td>447842000045207126</td>\n",
              "      <td>0</td>\n",
              "      <td>2017-04-11T22:42:23.860Z</td>\n",
              "      <td>for a cabinet enclosure</td>\n",
              "    </tr>\n",
              "    <tr>\n",
              "      <th>5</th>\n",
              "      <td>447842000754010922</td>\n",
              "      <td>447842000045207126</td>\n",
              "      <td>0</td>\n",
              "      <td>2017-04-11T22:42:32.183Z</td>\n",
              "      <td>200W at 220/127 VCA</td>\n",
              "    </tr>\n",
              "    <tr>\n",
              "      <th>6</th>\n",
              "      <td>447842000754010922</td>\n",
              "      <td>447842000045207126</td>\n",
              "      <td>0</td>\n",
              "      <td>2017-04-11T22:42:48.267Z</td>\n",
              "      <td>I liked MFR012</td>\n",
              "    </tr>\n",
              "    <tr>\n",
              "      <th>7</th>\n",
              "      <td>447842000754010922</td>\n",
              "      <td>447842000045207126</td>\n",
              "      <td>0</td>\n",
              "      <td>2017-04-11T22:42:59.840Z</td>\n",
              "      <td>but I do not know what heater I could use</td>\n",
              "    </tr>\n",
              "    <tr>\n",
              "      <th>8</th>\n",
              "      <td>447842000754010922</td>\n",
              "      <td>3402939147751915780</td>\n",
              "      <td>1</td>\n",
              "      <td>2017-04-11T22:43:09.513Z</td>\n",
              "      <td>Please hold while I investigate. Thank You.</td>\n",
              "    </tr>\n",
              "    <tr>\n",
              "      <th>9</th>\n",
              "      <td>447842000754010922</td>\n",
              "      <td>447842000045207126</td>\n",
              "      <td>0</td>\n",
              "      <td>2017-04-11T22:43:27.847Z</td>\n",
              "      <td>my cabinet is for electric protection and cont...</td>\n",
              "    </tr>\n",
              "  </tbody>\n",
              "</table>\n",
              "</div>"
            ],
            "text/plain": [
              "         dialog_index  ...                                            message\n",
              "0  447842000754010922  ...       Hello, my name is Rick, how may I help you? \n",
              "1  447842000754010922  ...                                           Hi there\n",
              "2  447842000754010922  ...                                   My name is Angel\n",
              "3  447842000754010922  ...     I need a kit of heater and a hygrostat control\n",
              "4  447842000754010922  ...                            for a cabinet enclosure\n",
              "5  447842000754010922  ...                                200W at 220/127 VCA\n",
              "6  447842000754010922  ...                                     I liked MFR012\n",
              "7  447842000754010922  ...          but I do not know what heater I could use\n",
              "8  447842000754010922  ...        Please hold while I investigate. Thank You.\n",
              "9  447842000754010922  ...  my cabinet is for electric protection and cont...\n",
              "\n",
              "[10 rows x 5 columns]"
            ]
          },
          "metadata": {
            "tags": []
          },
          "execution_count": 2
        }
      ]
    },
    {
      "cell_type": "markdown",
      "metadata": {
        "id": "9zosC3DTuD1t"
      },
      "source": [
        "### Some information about the columns values and types"
      ]
    },
    {
      "cell_type": "code",
      "metadata": {
        "id": "yfw990IWVsma",
        "outputId": "ae5e6083-1882-4dd7-a120-2be6acc1c666",
        "colab": {
          "base_uri": "https://localhost:8080/",
          "height": 225
        }
      },
      "source": [
        "data.info()"
      ],
      "execution_count": null,
      "outputs": [
        {
          "output_type": "stream",
          "text": [
            "<class 'pandas.core.frame.DataFrame'>\n",
            "RangeIndex: 218158 entries, 0 to 218157\n",
            "Data columns (total 5 columns):\n",
            " #   Column         Non-Null Count   Dtype \n",
            "---  ------         --------------   ----- \n",
            " 0   dialog_index   218158 non-null  int64 \n",
            " 1   speaker_index  218158 non-null  int64 \n",
            " 2   support        218158 non-null  int64 \n",
            " 3   datettime      218158 non-null  object\n",
            " 4   message        218152 non-null  object\n",
            "dtypes: int64(3), object(2)\n",
            "memory usage: 8.3+ MB\n"
          ],
          "name": "stdout"
        }
      ]
    },
    {
      "cell_type": "markdown",
      "metadata": {
        "id": "XceX1UyluIJC"
      },
      "source": [
        "### Number of null values in the dataset"
      ]
    },
    {
      "cell_type": "code",
      "metadata": {
        "id": "Os98GPCNtipi",
        "outputId": "9b326104-d106-4347-db3b-83c8a20bc2a7",
        "colab": {
          "base_uri": "https://localhost:8080/",
          "height": 121
        }
      },
      "source": [
        "data.isnull().sum()"
      ],
      "execution_count": null,
      "outputs": [
        {
          "output_type": "execute_result",
          "data": {
            "text/plain": [
              "dialog_index     0\n",
              "speaker_index    0\n",
              "support          0\n",
              "datettime        0\n",
              "message          6\n",
              "dtype: int64"
            ]
          },
          "metadata": {
            "tags": []
          },
          "execution_count": 4
        }
      ]
    },
    {
      "cell_type": "markdown",
      "metadata": {
        "id": "U-qgd4-QueOD"
      },
      "source": [
        "### Information about the total number of messages, dialogues, speakers etc."
      ]
    },
    {
      "cell_type": "code",
      "metadata": {
        "id": "BgGMXvyujveW",
        "outputId": "23e28783-8a87-4b68-ac7f-207638ecf8c8",
        "colab": {
          "base_uri": "https://localhost:8080/",
          "height": 710
        }
      },
      "source": [
        "info, plt, ex_mn, ex_men, ex_mx = inform(data)\n",
        "info"
      ],
      "execution_count": null,
      "outputs": [
        {
          "output_type": "execute_result",
          "data": {
            "text/html": [
              "<div>\n",
              "<style scoped>\n",
              "    .dataframe tbody tr th:only-of-type {\n",
              "        vertical-align: middle;\n",
              "    }\n",
              "\n",
              "    .dataframe tbody tr th {\n",
              "        vertical-align: top;\n",
              "    }\n",
              "\n",
              "    .dataframe thead th {\n",
              "        text-align: right;\n",
              "    }\n",
              "</style>\n",
              "<table border=\"1\" class=\"dataframe\">\n",
              "  <thead>\n",
              "    <tr style=\"text-align: right;\">\n",
              "      <th></th>\n",
              "      <th>info</th>\n",
              "      <th>value</th>\n",
              "    </tr>\n",
              "  </thead>\n",
              "  <tbody>\n",
              "    <tr>\n",
              "      <th>0</th>\n",
              "      <td>Total number of messages (i.e. lines in the da...</td>\n",
              "      <td>218158.0</td>\n",
              "    </tr>\n",
              "    <tr>\n",
              "      <th>1</th>\n",
              "      <td>Total number of dialogs</td>\n",
              "      <td>17345.0</td>\n",
              "    </tr>\n",
              "    <tr>\n",
              "      <th>2</th>\n",
              "      <td>Total number of speakers (including support)</td>\n",
              "      <td>14128.0</td>\n",
              "    </tr>\n",
              "    <tr>\n",
              "      <th>3</th>\n",
              "      <td>Total number of support messages</td>\n",
              "      <td>108455.0</td>\n",
              "    </tr>\n",
              "    <tr>\n",
              "      <th>4</th>\n",
              "      <td>Total number of customer messages</td>\n",
              "      <td>109703.0</td>\n",
              "    </tr>\n",
              "    <tr>\n",
              "      <th>5</th>\n",
              "      <td>Mean number of messages per dialog</td>\n",
              "      <td>13.0</td>\n",
              "    </tr>\n",
              "    <tr>\n",
              "      <th>6</th>\n",
              "      <td>Max number of messages per dialog</td>\n",
              "      <td>116.0</td>\n",
              "    </tr>\n",
              "    <tr>\n",
              "      <th>7</th>\n",
              "      <td>Min number of messages per dialog</td>\n",
              "      <td>1.0</td>\n",
              "    </tr>\n",
              "  </tbody>\n",
              "</table>\n",
              "</div>"
            ],
            "text/plain": [
              "                                                info     value\n",
              "0  Total number of messages (i.e. lines in the da...  218158.0\n",
              "1                            Total number of dialogs   17345.0\n",
              "2       Total number of speakers (including support)   14128.0\n",
              "3                   Total number of support messages  108455.0\n",
              "4                  Total number of customer messages  109703.0\n",
              "5                 Mean number of messages per dialog      13.0\n",
              "6                  Max number of messages per dialog     116.0\n",
              "7                  Min number of messages per dialog       1.0"
            ]
          },
          "metadata": {
            "tags": []
          },
          "execution_count": 5
        },
        {
          "output_type": "display_data",
          "data": {
            "image/png": "[encoded data removed]",
            "text/plain": [
              "<Figure size 576x432 with 1 Axes>"
            ]
          },
          "metadata": {
            "tags": [],
            "needs_background": "light"
          }
        }
      ]
    },
    {
      "cell_type": "markdown",
      "metadata": {
        "id": "wcxGJMYnrLT9"
      },
      "source": [
        "## Here is an illustration of 3 dialogs of different length from the dataset:"
      ]
    },
    {
      "cell_type": "markdown",
      "metadata": {
        "id": "BomyB29Hhc9J"
      },
      "source": [
        "### Example of a dialog of the mean length"
      ]
    },
    {
      "cell_type": "code",
      "metadata": {
        "id": "3rDhKwR4neWL",
        "outputId": "ad13956b-8344-4246-82a6-90903f1a6eed",
        "colab": {
          "base_uri": "https://localhost:8080/",
          "height": 262
        }
      },
      "source": [
        "print_dialog(ex_men)"
      ],
      "execution_count": null,
      "outputs": [
        {
          "output_type": "stream",
          "text": [
            "support: Hello, my name is Richard, how may I help you?\n",
            "customer: I'm looking for a thermometer. I have a Omega 866C and looking for a similar.\n",
            "customer: The cable we use is a Jack to a female mini jack where we plug in a RTD cable\n",
            "support: Please hold while I investigate. Thank You.\n",
            "customer: I have found your 868 and 869 series but the mating connection isn't the same as the 866C. But if there is a cable who can be attached these and have a female mini-jack in the end then it would be an solution.\n",
            "support: http://www.omega.com/temperature/pdf/ON-403-PP.pdf\n",
            "support: http://www.omega.co.uk/pptst/ON-403-PP.html\n",
            "customer: Thank you. We have out own 'one time use' Sensor. Do you have a link to the device who supports that jack plug?\n",
            "support: http://www.omega.co.uk/pptst/ON-400_PROBES.html\n",
            "customer: Thank you!If I have a device (866C) which needs to be calibrated is it then something you do? And how much does such service cost?\n",
            "support: How many calibration points are required?\n",
            "customer: hm.. I'm not sure. They use it for monitoring the core temperatur. So they need to be sure about the temp between 35 and 50 celsius.\n",
            "customer: Thank you for your support!\n"
          ],
          "name": "stdout"
        }
      ]
    },
    {
      "cell_type": "markdown",
      "metadata": {
        "id": "gCZbqBq-hYon"
      },
      "source": [
        "### Example of a dialog of the min length"
      ]
    },
    {
      "cell_type": "code",
      "metadata": {
        "id": "5wAaVS_Cb7FG",
        "outputId": "c9f4d10a-4d09-4829-c617-ebb723fb1602",
        "colab": {
          "base_uri": "https://localhost:8080/",
          "height": 34
        }
      },
      "source": [
        "print_dialog(ex_mn)"
      ],
      "execution_count": null,
      "outputs": [
        {
          "output_type": "stream",
          "text": [
            "support: Hello, my name is Bob Schaale, how may I help you? \n"
          ],
          "name": "stdout"
        }
      ]
    },
    {
      "cell_type": "markdown",
      "metadata": {
        "id": "s4nU9V_ZhUYx"
      },
      "source": [
        "### Example of a dialog of the max length:"
      ]
    },
    {
      "cell_type": "code",
      "metadata": {
        "id": "gK6EAU1hngiB",
        "outputId": "bcdc0f2d-578d-4a28-be20-f0c05fe02332",
        "colab": {
          "base_uri": "https://localhost:8080/",
          "height": 1000
        }
      },
      "source": [
        "print_dialog(ex_mx)"
      ],
      "execution_count": null,
      "outputs": [
        {
          "output_type": "stream",
          "text": [
            "support: Hello, my name is Steve, how may I help you?\n",
            "customer: Hi Steve.\n",
            "customer: I've a project that involves using a lot of long thermocouples\n",
            "customer: Long = about 70 to 80 ft thermocouples.\n",
            "customer: When I tried comparing the accuracy of longer thermocouple with smaller length, there is always a difference in reading between two thermocouples\n",
            "customer: although the tips are at same place\n",
            "support: hello Sachin , what is the application ? max and min temp ?\n",
            "customer: It is embedded in concrete pavement -- so it would be few degrees different than normal outside temperature\n",
            "customer: -15 to 50 degree celsius\n",
            "support: we can offer a T type ready made thermocouple that is 80 ft long , \n",
            "customer: We have Type N\n",
            "customer: So my question is, i there a way to account for these drifts?\n",
            "customer: Actually if you have an email id, it would be easier to show you the graphs.\n",
            "support: are you welding&nbsp; the N type wire &nbsp; ?&nbsp; how much of a difference are you getting? is this an Omega part ?\n",
            "customer: Yeah.\n",
            "customer: We are using bare fine wire thermocouple\n",
            "support: my email is strapani@omega.com \n",
            "support: what is the AWG&nbsp;wire size ?\n",
            "customer: 24\n",
            "customer: I will send you some graphs\n",
            "customer: in email\n",
            "customer: and we can discuss about it.\n",
            "support: thank you \n",
            "customer: give me few minutes\n",
            "customer: I'm saving some graphs\n",
            "support: when I receive the graphs we can discuss further\n",
            "customer: Sure. I've a few graphs. Actually I can send multiple emails if that's fast.\n",
            "customer: Sent you\n",
            "customer: So, we have 5 different situations.We have channel 1 and 2 with all the wires kept inside the room.Channel  1 is longer (80 ft) vs Channel 2 is short (3 ft). As seen in graph 1, there is almost constant temperature difference\n",
            "customer: Is there a way to account this change in temperature?\n",
            "customer: long wire vs short wire difference\n",
            "support: What is the part number of the type N wire ?\n",
            "customer: Let me find it real quick\n",
            "customer: 5TC-TT-K-24\n",
            "customer: we have 40 feet long thermocouples from omega\n",
            "customer: and we used MF coupler to add extra 40 feet wire\n",
            "customer: we've used boot to seal the connection\n",
            "customer: Sory It's type K\n",
            "customer: not N\n",
            "support: That part number is a type K ,&nbsp;&nbsp;was &nbsp;the datalogger set for type &nbsp;K ?\n",
            "customer: Yes\n",
            "customer: It is MicroStrain TC Link datalogger\n",
            "support: are the connectors type K\n",
            "customer: Type K, standard range.\n",
            "customer: Yes.\n",
            "customer: even the extension wires are omega\n",
            "customer: type K\n",
            "customer: TT-K-24-500 wires\n",
            "customer: SMPW-K-MF-ROHS\n",
            "customer: MRBS boots in connected portion\n",
            "support: from the graph the 40 ft length seems closer to the 3 ft reading , but the 80 ft seems to have a bigger difference , does the datalogger have a restriction for impedance ? that is the 80 ft lead&nbsp; will have a resistance over 120 ohms \n",
            "customer: 80 feet wire has resistance of around 115.\n",
            "support: we recommend under 100 ohms\n",
            "support: for our dataloggers\n",
            "customer: actually the graph with three channels\n",
            "customer: are 40 feet long\n",
            "customer: so, the resitance is around 65 ohm\n",
            "customer: the only difference is one is spread another is bundled\n",
            "customer: These are the same wire that we received from omega -- custom made for 40 ft\n",
            "support: has the datalogger been calibrated ?\n",
            "customer: yes. we've used these same datalogger in past for two projects\n",
            "customer: without any issue\n",
            "customer: Except we've not used longer than 15 ft\n",
            "support: not sure of the reason ,when were they purchased ? Do you have a Omega confirmation number ?\n",
            "customer: let me look at those\n",
            "customer: purchased in June\n",
            "customer: I've quote number if that helps\n",
            "support: do you have a purchase order number ?\n",
            "customer: SC00172791\n",
            "customer: That's the order number\n",
            "support: I can set up a case number so the the probe can be sent back for evaluation. Please provide full name , address tel # so that I can put in the case\n",
            "customer: Well, we can't send the gages back.\n",
            "customer: We've installed few inside concrete pavement in I-294.\n",
            "customer: And about 20 of them will be installed next week.\n",
            "support: can any of the unused be sent back ?\n",
            "customer: We've one extra. That can be sent back.\n",
            "customer: But others have to go into the field next week.\n",
            "customer: and will be laid on Thursday'\n",
            "customer: From Graph 2, I've another concern\n",
            "customer: Channel 3 ( that starts at around 20 Celsius) and Channel 5 ( that starts at 24), they have everything same. Except one being coiled (like the way it is shipped) and another is spread.There is about 4 degree temperature difference constantly.In addition (Channel 3 -- that is spread thermocouple) has more noise level than the one that is not spread.\n",
            "customer: Does spreading it expose longer length to the environment and is more influenced to give more noise?\n",
            "support: if the datalogger has been recently calibrated not sure of the cause of &nbsp;problem the probe has to be evaluated here , I can set up a case number so the the probe can be sent back for evaluation. Please provide full name , address tel # so that I can put in the case\n",
            "customer: Name: Sachindra DahalAddress:UNIVERSITY OF ILLINOIS205 N Mathews Ave # MC250Urbana IL 61801-2350United StatesTel #: 479-276-2653\n",
            "customer: Well, it definitely is not datalogger problem as we can clearly see drifts in longer wires.\n",
            "customer: with llonger wires always giving higher reading than shorter wires.\n",
            "support: no , impedance is the concern\n",
            "customer: We've used 8 different dataloggers (the project is very big). All the time, longer wire = higher reading.\n",
            "customer: Can you give me few minutes, I'll ask about impedance to the datalogger company.\n",
            "customer: I'll call the engineer there.\n",
            "support: your case number is 1875498 , I can pass this to Customer Service so that a AR number can be issued\n",
            "support: based on your findings from the makers of the datalogger I can add to the case\n",
            "customer: The guy is out right now.\n",
            "customer: http://www.microstrain.com/wireless/tc-link-6ch\n",
            "customer: this is the data logging node\n",
            "support: I will pass this information to our Customer service department\n",
            "customer: Sure. I'd want to solve this issue so that we don't get data that's not useful.\n",
            "customer: One more question.\n",
            "customer: We've a few order placed. Can you please check the status of those order?\n",
            "customer: E-Quote# WC257287\n",
            "customer: with expedite shipping.\n",
            "customer: We've not heard back from Omega. All items were shown in stock during the time of order.\n",
            "support: The quote has been converted to Omega Order number is SC189991 is still in process I will sent a note to expedite\n",
            "customer: Right now it shows that HMPW-K-MF is out of stock\n",
            "customer: and SMPW-K-MF-ROHS is in stock\n",
            "customer: If HMPW is the reason for delay, can SMPW be shipped instead? We need those items soon and have been waiting for few days with expedite shipping.\n",
            "support: 1 will sent a note to the saleperson who entered the order and expedite\n",
            "customer: Thanks Steve\n",
            "support: Thank you have a nice day!\n",
            "customer: You too. And what do I have to do to return these items?\n",
            "customer: Could you please email me the details\n",
            "customer: for one thermocouple\n",
            "customer: to test it.\n",
            "support: customer service will contact you\n",
            "customer: alright\n",
            "customer: thank you\n",
            "support: thank you\n"
          ],
          "name": "stdout"
        }
      ]
    },
    {
      "cell_type": "markdown",
      "metadata": {
        "id": "Rr4Yt7PDvVII"
      },
      "source": [
        "# Let's now look at some linguistic features of the messages"
      ]
    },
    {
      "cell_type": "markdown",
      "metadata": {
        "id": "gS8VYT8Ez-pv"
      },
      "source": [
        "We will analyse syntactic, morphological and character features of N examples of our data (N value is the second argument of `ling` function)"
      ]
    },
    {
      "cell_type": "code",
      "metadata": {
        "id": "gryUMxjYkjN5",
        "outputId": "fb580d1a-3ede-4e13-cb9f-dcd8fd439ddc",
        "colab": {
          "base_uri": "https://localhost:8080/",
          "height": 1000
        }
      },
      "source": [
        "ling(data, 2000)"
      ],
      "execution_count": null,
      "outputs": [
        {
          "output_type": "display_data",
          "data": {
            "image/png": "[encoded data removed]",
            "text/plain": [
              "<Figure size 1800x504 with 1 Axes>"
            ]
          },
          "metadata": {
            "tags": [],
            "needs_background": "light"
          }
        },
        {
          "output_type": "display_data",
          "data": {
            "image/png": "[encoded data removed]",
            "text/plain": [
              "<Figure size 2160x720 with 1 Axes>"
            ]
          },
          "metadata": {
            "tags": [],
            "needs_background": "light"
          }
        },
        {
          "output_type": "display_data",
          "data": {
            "image/png": "[encoded data removed]",
            "text/plain": [
              "<Figure size 1800x504 with 1 Axes>"
            ]
          },
          "metadata": {
            "tags": [],
            "needs_background": "light"
          }
        },
        {
          "output_type": "display_data",
          "data": {
            "image/png": "[encoded data removed]",
            "text/plain": [
              "<Figure size 1800x504 with 1 Axes>"
            ]
          },
          "metadata": {
            "tags": [],
            "needs_background": "light"
          }
        }
      ]
    },
    {
      "cell_type": "markdown",
      "metadata": {
        "id": "K1kUqgmCdz4Z"
      },
      "source": [
        "As it can be seen from the plot with syntactic tags, people usually don't use complex sentences, only simple ones (it could be understood from the fact that we have a very small number of coordinating and subordinating conjunctions which build complex sentences)"
      ]
    },
    {
      "cell_type": "markdown",
      "metadata": {
        "id": "3ojaJ0CM2yQ0"
      },
      "source": [
        "Syntactic tags names:\n"
      ]
    },
    {
      "cell_type": "markdown",
      "metadata": {
        "id": "UkWDsHPak_pu"
      },
      "source": [
        "# Ngram frequency in our dataset"
      ]
    },
    {
      "cell_type": "markdown",
      "metadata": {
        "id": "GWpKmLC0lJ7c"
      },
      "source": [
        "the second argument of `ngrams` function is number of examples to analyse, the third one is a tuple of ngrams to count, the forth one is frequency until which values are printed (Note that third argument enlarges number of variables that should be written before the fucntion call)"
      ]
    },
    {
      "cell_type": "code",
      "metadata": {
        "id": "q7KjgmxzlIDt"
      },
      "source": [
        "first, second, third = ngrams(data, 2000, (1,2,3), 50, stopwords=True)"
      ],
      "execution_count": null,
      "outputs": []
    },
    {
      "cell_type": "markdown",
      "metadata": {
        "id": "IN_esgXcDkAO"
      },
      "source": [
        "### Most frequent unigrams (words)"
      ]
    },
    {
      "cell_type": "code",
      "metadata": {
        "id": "w2XBjhcBDQCu",
        "outputId": "b38f7410-81f7-43cc-a63f-042d747f5473",
        "colab": {
          "base_uri": "https://localhost:8080/",
          "height": 537
        }
      },
      "source": [
        "for num, word in first:\n",
        "  print(num, word)"
      ],
      "execution_count": null,
      "outputs": [
        {
          "output_type": "stream",
          "text": [
            "210 help\n",
            "191 omega\n",
            "184 hello\n",
            "177 need\n",
            "146 thanks\n",
            "126 com\n",
            "123 www\n",
            "117 ok\n",
            "115 http\n",
            "110 thank\n",
            "104 hi\n",
            "96 pressure\n",
            "87 nbsp\n",
            "87 great\n",
            "86 pdf\n",
            "84 temperature\n",
            "83 assistance\n",
            "80 contact\n",
            "74 day\n",
            "73 looking\n",
            "67 yes\n",
            "67 order\n",
            "56 want\n",
            "56 pptst\n",
            "55 flow\n",
            "54 html\n",
            "53 like\n",
            "51 send\n",
            "50 use\n",
            "50 contacting\n"
          ],
          "name": "stdout"
        }
      ]
    },
    {
      "cell_type": "markdown",
      "metadata": {
        "id": "nw5PHJNIDoLk"
      },
      "source": [
        "### Most frequent bigrams"
      ]
    },
    {
      "cell_type": "code",
      "metadata": {
        "id": "9u-9RnqIDE43",
        "outputId": "8d651bd2-3361-46bc-bf19-2a60f881e8b6",
        "colab": {
          "base_uri": "https://localhost:8080/",
          "height": 104
        }
      },
      "source": [
        "for num, word in second:\n",
        "  print(num, word)"
      ],
      "execution_count": null,
      "outputs": [
        {
          "output_type": "stream",
          "text": [
            "115 http www\n",
            "110 www omega\n",
            "109 omega com\n",
            "57 need assistance\n",
            "56 great day\n"
          ],
          "name": "stdout"
        }
      ]
    },
    {
      "cell_type": "markdown",
      "metadata": {
        "id": "jJmcmuB1Cvkh"
      },
      "source": [
        "### Most frequent trigrams"
      ]
    },
    {
      "cell_type": "code",
      "metadata": {
        "id": "YMTm4m0A_S35",
        "outputId": "99aca4d1-9874-4fd4-e14a-688baf2801a0",
        "colab": {
          "base_uri": "https://localhost:8080/",
          "height": 52
        }
      },
      "source": [
        "for num, word in third:\n",
        "  print(num, word)"
      ],
      "execution_count": null,
      "outputs": [
        {
          "output_type": "stream",
          "text": [
            "109 http www omega\n",
            "93 www omega com\n"
          ],
          "name": "stdout"
        }
      ]
    },
    {
      "cell_type": "markdown",
      "metadata": {
        "id": "pMSI0UTaK74-"
      },
      "source": [
        "# Cluster analysis for 1% of our dataset"
      ]
    },
    {
      "cell_type": "markdown",
      "metadata": {
        "id": "ed9XTQ9HoZ68"
      },
      "source": [
        "A dendrogram"
      ]
    },
    {
      "cell_type": "code",
      "metadata": {
        "id": "BLUsym-dG9WZ",
        "outputId": "00e5e50a-9f8d-4f32-e550-a24a05bf5892",
        "colab": {
          "base_uri": "https://localhost:8080/",
          "height": 374
        }
      },
      "source": [
        "one, two, three, four = clusterize(data, 2000, 4)"
      ],
      "execution_count": null,
      "outputs": [
        {
          "output_type": "display_data",
          "data": {
            "image/png": "[encoded data removed]",
            "text/plain": [
              "<Figure size 1800x720 with 1 Axes>"
            ]
          },
          "metadata": {
            "tags": [],
            "needs_background": "light"
          }
        }
      ]
    },
    {
      "cell_type": "markdown",
      "metadata": {
        "id": "lJEMh8hoocOj"
      },
      "source": [
        "examples of 4 clusters"
      ]
    },
    {
      "cell_type": "code",
      "metadata": {
        "id": "JspFJ-9vmVKz",
        "outputId": "06e22d23-4d63-4db9-c13f-f2a6e26e5a57",
        "colab": {
          "base_uri": "https://localhost:8080/",
          "height": 206
        }
      },
      "source": [
        "one"
      ],
      "execution_count": null,
      "outputs": [
        {
          "output_type": "execute_result",
          "data": {
            "text/html": [
              "<div>\n",
              "<style scoped>\n",
              "    .dataframe tbody tr th:only-of-type {\n",
              "        vertical-align: middle;\n",
              "    }\n",
              "\n",
              "    .dataframe tbody tr th {\n",
              "        vertical-align: top;\n",
              "    }\n",
              "\n",
              "    .dataframe thead th {\n",
              "        text-align: right;\n",
              "    }\n",
              "</style>\n",
              "<table border=\"1\" class=\"dataframe\">\n",
              "  <thead>\n",
              "    <tr style=\"text-align: right;\">\n",
              "      <th></th>\n",
              "      <th>message</th>\n",
              "      <th>cluster</th>\n",
              "    </tr>\n",
              "  </thead>\n",
              "  <tbody>\n",
              "    <tr>\n",
              "      <th>0</th>\n",
              "      <td>Hi there</td>\n",
              "      <td>1</td>\n",
              "    </tr>\n",
              "    <tr>\n",
              "      <th>50</th>\n",
              "      <td>Hi there</td>\n",
              "      <td>1</td>\n",
              "    </tr>\n",
              "    <tr>\n",
              "      <th>55</th>\n",
              "      <td>hi there</td>\n",
              "      <td>1</td>\n",
              "    </tr>\n",
              "    <tr>\n",
              "      <th>69</th>\n",
              "      <td>Hi Richard, still there?</td>\n",
              "      <td>1</td>\n",
              "    </tr>\n",
              "    <tr>\n",
              "      <th>73</th>\n",
              "      <td>hi</td>\n",
              "      <td>1</td>\n",
              "    </tr>\n",
              "  </tbody>\n",
              "</table>\n",
              "</div>"
            ],
            "text/plain": [
              "                     message  cluster\n",
              "0                   Hi there        1\n",
              "50                  Hi there        1\n",
              "55                  hi there        1\n",
              "69  Hi Richard, still there?        1\n",
              "73                        hi        1"
            ]
          },
          "metadata": {
            "tags": []
          },
          "execution_count": 15
        }
      ]
    },
    {
      "cell_type": "code",
      "metadata": {
        "id": "I3n_zcyJmWlv",
        "outputId": "ee493852-ee3a-4ca0-98d9-a1bfdea9700a",
        "colab": {
          "base_uri": "https://localhost:8080/",
          "height": 206
        }
      },
      "source": [
        "two"
      ],
      "execution_count": null,
      "outputs": [
        {
          "output_type": "execute_result",
          "data": {
            "text/html": [
              "<div>\n",
              "<style scoped>\n",
              "    .dataframe tbody tr th:only-of-type {\n",
              "        vertical-align: middle;\n",
              "    }\n",
              "\n",
              "    .dataframe tbody tr th {\n",
              "        vertical-align: top;\n",
              "    }\n",
              "\n",
              "    .dataframe thead th {\n",
              "        text-align: right;\n",
              "    }\n",
              "</style>\n",
              "<table border=\"1\" class=\"dataframe\">\n",
              "  <thead>\n",
              "    <tr style=\"text-align: right;\">\n",
              "      <th></th>\n",
              "      <th>message</th>\n",
              "      <th>cluster</th>\n",
              "    </tr>\n",
              "  </thead>\n",
              "  <tbody>\n",
              "    <tr>\n",
              "      <th>60</th>\n",
              "      <td>Can you help? Thanks</td>\n",
              "      <td>2</td>\n",
              "    </tr>\n",
              "    <tr>\n",
              "      <th>72</th>\n",
              "      <td>thanks for your help</td>\n",
              "      <td>2</td>\n",
              "    </tr>\n",
              "    <tr>\n",
              "      <th>145</th>\n",
              "      <td>And thanks for your time</td>\n",
              "      <td>2</td>\n",
              "    </tr>\n",
              "    <tr>\n",
              "      <th>164</th>\n",
              "      <td>will use the website and thanks for your help</td>\n",
              "      <td>2</td>\n",
              "    </tr>\n",
              "    <tr>\n",
              "      <th>208</th>\n",
              "      <td>Perfect. Thanks for your help</td>\n",
              "      <td>2</td>\n",
              "    </tr>\n",
              "  </tbody>\n",
              "</table>\n",
              "</div>"
            ],
            "text/plain": [
              "                                           message  cluster\n",
              "60                            Can you help? Thanks        2\n",
              "72                            thanks for your help        2\n",
              "145                       And thanks for your time        2\n",
              "164  will use the website and thanks for your help        2\n",
              "208                  Perfect. Thanks for your help        2"
            ]
          },
          "metadata": {
            "tags": []
          },
          "execution_count": 16
        }
      ]
    },
    {
      "cell_type": "code",
      "metadata": {
        "id": "au0fPj0VmXcr",
        "outputId": "5dfaa4f4-4c67-403c-cf0f-a427bb56f9da",
        "colab": {
          "base_uri": "https://localhost:8080/",
          "height": 206
        }
      },
      "source": [
        "three"
      ],
      "execution_count": null,
      "outputs": [
        {
          "output_type": "execute_result",
          "data": {
            "text/html": [
              "<div>\n",
              "<style scoped>\n",
              "    .dataframe tbody tr th:only-of-type {\n",
              "        vertical-align: middle;\n",
              "    }\n",
              "\n",
              "    .dataframe tbody tr th {\n",
              "        vertical-align: top;\n",
              "    }\n",
              "\n",
              "    .dataframe thead th {\n",
              "        text-align: right;\n",
              "    }\n",
              "</style>\n",
              "<table border=\"1\" class=\"dataframe\">\n",
              "  <thead>\n",
              "    <tr style=\"text-align: right;\">\n",
              "      <th></th>\n",
              "      <th>message</th>\n",
              "      <th>cluster</th>\n",
              "    </tr>\n",
              "  </thead>\n",
              "  <tbody>\n",
              "    <tr>\n",
              "      <th>25</th>\n",
              "      <td>That will work great then</td>\n",
              "      <td>3</td>\n",
              "    </tr>\n",
              "    <tr>\n",
              "      <th>26</th>\n",
              "      <td>Great</td>\n",
              "      <td>3</td>\n",
              "    </tr>\n",
              "    <tr>\n",
              "      <th>54</th>\n",
              "      <td>thats great news thank you for the support</td>\n",
              "      <td>3</td>\n",
              "    </tr>\n",
              "    <tr>\n",
              "      <th>94</th>\n",
              "      <td>okay thats great</td>\n",
              "      <td>3</td>\n",
              "    </tr>\n",
              "    <tr>\n",
              "      <th>276</th>\n",
              "      <td>Great! I will purchase this afternoon.</td>\n",
              "      <td>3</td>\n",
              "    </tr>\n",
              "  </tbody>\n",
              "</table>\n",
              "</div>"
            ],
            "text/plain": [
              "                                        message  cluster\n",
              "25                    That will work great then        3\n",
              "26                                        Great        3\n",
              "54   thats great news thank you for the support        3\n",
              "94                             okay thats great        3\n",
              "276      Great! I will purchase this afternoon.        3"
            ]
          },
          "metadata": {
            "tags": []
          },
          "execution_count": 17
        }
      ]
    },
    {
      "cell_type": "code",
      "metadata": {
        "id": "4qRN8LfooXLp",
        "outputId": "15214587-a3f6-4bb8-cce3-5dd8bb002965",
        "colab": {
          "base_uri": "https://localhost:8080/",
          "height": 206
        }
      },
      "source": [
        "four"
      ],
      "execution_count": null,
      "outputs": [
        {
          "output_type": "execute_result",
          "data": {
            "text/html": [
              "<div>\n",
              "<style scoped>\n",
              "    .dataframe tbody tr th:only-of-type {\n",
              "        vertical-align: middle;\n",
              "    }\n",
              "\n",
              "    .dataframe tbody tr th {\n",
              "        vertical-align: top;\n",
              "    }\n",
              "\n",
              "    .dataframe thead th {\n",
              "        text-align: right;\n",
              "    }\n",
              "</style>\n",
              "<table border=\"1\" class=\"dataframe\">\n",
              "  <thead>\n",
              "    <tr style=\"text-align: right;\">\n",
              "      <th></th>\n",
              "      <th>message</th>\n",
              "      <th>cluster</th>\n",
              "    </tr>\n",
              "  </thead>\n",
              "  <tbody>\n",
              "    <tr>\n",
              "      <th>154</th>\n",
              "      <td>Have a nice day</td>\n",
              "      <td>4</td>\n",
              "    </tr>\n",
              "    <tr>\n",
              "      <th>231</th>\n",
              "      <td>Thank you, have a good day</td>\n",
              "      <td>4</td>\n",
              "    </tr>\n",
              "    <tr>\n",
              "      <th>291</th>\n",
              "      <td>OK. Thank you Andy. Have a nice day.</td>\n",
              "      <td>4</td>\n",
              "    </tr>\n",
              "    <tr>\n",
              "      <th>308</th>\n",
              "      <td>ok thank you have a great day</td>\n",
              "      <td>4</td>\n",
              "    </tr>\n",
              "    <tr>\n",
              "      <th>318</th>\n",
              "      <td>thanks so much.  have a great day.</td>\n",
              "      <td>4</td>\n",
              "    </tr>\n",
              "  </tbody>\n",
              "</table>\n",
              "</div>"
            ],
            "text/plain": [
              "                                  message  cluster\n",
              "154                       Have a nice day        4\n",
              "231            Thank you, have a good day        4\n",
              "291  OK. Thank you Andy. Have a nice day.        4\n",
              "308         ok thank you have a great day        4\n",
              "318    thanks so much.  have a great day.        4"
            ]
          },
          "metadata": {
            "tags": []
          },
          "execution_count": 18
        }
      ]
    },
    {
      "cell_type": "markdown",
      "metadata": {
        "id": "2PVSENQNqck2"
      },
      "source": [
        "Looking at the first cluster, we can understand that introduction of automated response system will reduce the waiting time of a user"
      ]
    }
  ]
}